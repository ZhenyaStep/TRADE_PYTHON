{
 "cells": [
  {
   "cell_type": "code",
   "execution_count": 1,
   "metadata": {},
   "outputs": [],
   "source": [
    "import pandas as pd\n",
    "import numpy as np"
   ]
  },
  {
   "cell_type": "code",
   "execution_count": 2,
   "metadata": {},
   "outputs": [],
   "source": [
    "data = pd.read_csv(\"bitmex_5m_xbtusd.csv\")"
   ]
  },
  {
   "cell_type": "code",
   "execution_count": 7,
   "metadata": {},
   "outputs": [
    {
     "name": "stdout",
     "output_type": "stream",
     "text": [
      "\n",
      "The following command must be run outside of the IPython shell:\n",
      "\n",
      "    $ pip install TA-Lib\n",
      "\n",
      "The Python package manager (pip) can only be used from outside of IPython.\n",
      "Please reissue the `pip` command in a separate terminal or command prompt.\n",
      "\n",
      "See the Python documentation for more information on how to install packages:\n",
      "\n",
      "    https://docs.python.org/3/installing/\n"
     ]
    }
   ],
   "source": [
    "%pip install TA-Lib"
   ]
  },
  {
   "cell_type": "markdown",
   "metadata": {},
   "source": [
    "### watch data"
   ]
  },
  {
   "cell_type": "code",
   "execution_count": 9,
   "metadata": {},
   "outputs": [],
   "source": [
    "from sklearn.model_selection import train_test_split"
   ]
  },
  {
   "cell_type": "code",
   "execution_count": 12,
   "metadata": {},
   "outputs": [],
   "source": [
    "y = data.Low.shift(2)"
   ]
  },
  {
   "cell_type": "code",
   "execution_count": 17,
   "metadata": {},
   "outputs": [],
   "source": [
    "data = data[2:]"
   ]
  },
  {
   "cell_type": "code",
   "execution_count": 21,
   "metadata": {},
   "outputs": [],
   "source": [
    "X = pd.DataFrame()\n",
    "X[\"Open\"] = data.Open\n",
    "X[\"Hight\"] = data.High\n",
    "X[\"Low\"] = data.Low \n",
    "X[\"Close\"] = data.Close"
   ]
  },
  {
   "cell_type": "code",
   "execution_count": 23,
   "metadata": {},
   "outputs": [],
   "source": [
    "from sklearn.linear_model import LinearRegression"
   ]
  },
  {
   "cell_type": "code",
   "execution_count": 24,
   "metadata": {},
   "outputs": [],
   "source": [
    "model = LinearRegression()"
   ]
  },
  {
   "cell_type": "code",
   "execution_count": 26,
   "metadata": {},
   "outputs": [],
   "source": [
    "y = y.dropna()"
   ]
  },
  {
   "cell_type": "code",
   "execution_count": 27,
   "metadata": {},
   "outputs": [
    {
     "data": {
      "text/plain": [
       "LinearRegression(copy_X=True, fit_intercept=True, n_jobs=1, normalize=False)"
      ]
     },
     "execution_count": 27,
     "metadata": {},
     "output_type": "execute_result"
    }
   ],
   "source": [
    "model.fit(X, y)"
   ]
  },
  {
   "cell_type": "code",
   "execution_count": 30,
   "metadata": {},
   "outputs": [],
   "source": [
    "from sklearn.metrics import mean_absolute_error"
   ]
  },
  {
   "cell_type": "code",
   "execution_count": null,
   "metadata": {},
   "outputs": [],
   "source": []
  },
  {
   "cell_type": "code",
   "execution_count": 31,
   "metadata": {},
   "outputs": [
    {
     "name": "stderr",
     "output_type": "stream",
     "text": [
      "D:\\programs\\Anaconda\\lib\\site-packages\\sklearn\\model_selection\\_split.py:2026: FutureWarning: From version 0.21, test_size will always complement train_size unless both are specified.\n",
      "  FutureWarning)\n"
     ]
    }
   ],
   "source": [
    "X_train, X_test, y_train, y_test = train_test_split(X, y, train_size=0.7, random_state=42, shuffle=True)"
   ]
  },
  {
   "cell_type": "code",
   "execution_count": 32,
   "metadata": {},
   "outputs": [
    {
     "data": {
      "text/plain": [
       "LinearRegression(copy_X=True, fit_intercept=True, n_jobs=1, normalize=False)"
      ]
     },
     "execution_count": 32,
     "metadata": {},
     "output_type": "execute_result"
    }
   ],
   "source": [
    "model.fit(X_train, y_train)"
   ]
  },
  {
   "cell_type": "code",
   "execution_count": 33,
   "metadata": {},
   "outputs": [
    {
     "data": {
      "text/plain": [
       "14.278293568511222"
      ]
     },
     "execution_count": 33,
     "metadata": {},
     "output_type": "execute_result"
    }
   ],
   "source": [
    "mean_absolute_error(model.predict(X_test), y_test)"
   ]
  },
  {
   "cell_type": "code",
   "execution_count": 35,
   "metadata": {},
   "outputs": [
    {
     "data": {
      "text/html": [
       "<div>\n",
       "<style scoped>\n",
       "    .dataframe tbody tr th:only-of-type {\n",
       "        vertical-align: middle;\n",
       "    }\n",
       "\n",
       "    .dataframe tbody tr th {\n",
       "        vertical-align: top;\n",
       "    }\n",
       "\n",
       "    .dataframe thead th {\n",
       "        text-align: right;\n",
       "    }\n",
       "</style>\n",
       "<table border=\"1\" class=\"dataframe\">\n",
       "  <thead>\n",
       "    <tr style=\"text-align: right;\">\n",
       "      <th></th>\n",
       "      <th>Unnamed: 0</th>\n",
       "      <th>datetime</th>\n",
       "      <th>Open</th>\n",
       "      <th>High</th>\n",
       "      <th>Low</th>\n",
       "      <th>Close</th>\n",
       "      <th>Volume</th>\n",
       "    </tr>\n",
       "  </thead>\n",
       "  <tbody>\n",
       "    <tr>\n",
       "      <th>count</th>\n",
       "      <td>49998.000000</td>\n",
       "      <td>4.999800e+04</td>\n",
       "      <td>49998.000000</td>\n",
       "      <td>49998.00000</td>\n",
       "      <td>49998.000000</td>\n",
       "      <td>49998.000000</td>\n",
       "      <td>4.999800e+04</td>\n",
       "    </tr>\n",
       "    <tr>\n",
       "      <th>mean</th>\n",
       "      <td>25000.500000</td>\n",
       "      <td>1.526737e+12</td>\n",
       "      <td>7883.275991</td>\n",
       "      <td>7893.26184</td>\n",
       "      <td>7873.009300</td>\n",
       "      <td>7883.184287</td>\n",
       "      <td>9.952103e+06</td>\n",
       "    </tr>\n",
       "    <tr>\n",
       "      <th>std</th>\n",
       "      <td>14433.323716</td>\n",
       "      <td>4.329997e+09</td>\n",
       "      <td>1285.394514</td>\n",
       "      <td>1288.72374</td>\n",
       "      <td>1281.822396</td>\n",
       "      <td>1285.363032</td>\n",
       "      <td>1.196090e+07</td>\n",
       "    </tr>\n",
       "    <tr>\n",
       "      <th>min</th>\n",
       "      <td>2.000000</td>\n",
       "      <td>1.519238e+12</td>\n",
       "      <td>5799.500000</td>\n",
       "      <td>5820.50000</td>\n",
       "      <td>5743.000000</td>\n",
       "      <td>5799.500000</td>\n",
       "      <td>0.000000e+00</td>\n",
       "    </tr>\n",
       "    <tr>\n",
       "      <th>25%</th>\n",
       "      <td>12501.250000</td>\n",
       "      <td>1.522987e+12</td>\n",
       "      <td>6741.125000</td>\n",
       "      <td>6747.00000</td>\n",
       "      <td>6735.500000</td>\n",
       "      <td>6741.000000</td>\n",
       "      <td>3.569091e+06</td>\n",
       "    </tr>\n",
       "    <tr>\n",
       "      <th>50%</th>\n",
       "      <td>25000.500000</td>\n",
       "      <td>1.526737e+12</td>\n",
       "      <td>7674.250000</td>\n",
       "      <td>7682.75000</td>\n",
       "      <td>7668.000000</td>\n",
       "      <td>7674.000000</td>\n",
       "      <td>6.513358e+06</td>\n",
       "    </tr>\n",
       "    <tr>\n",
       "      <th>75%</th>\n",
       "      <td>37499.750000</td>\n",
       "      <td>1.530487e+12</td>\n",
       "      <td>8740.500000</td>\n",
       "      <td>8756.00000</td>\n",
       "      <td>8725.500000</td>\n",
       "      <td>8740.500000</td>\n",
       "      <td>1.180408e+07</td>\n",
       "    </tr>\n",
       "    <tr>\n",
       "      <th>max</th>\n",
       "      <td>49999.000000</td>\n",
       "      <td>1.534237e+12</td>\n",
       "      <td>11664.500000</td>\n",
       "      <td>11683.00000</td>\n",
       "      <td>11649.000000</td>\n",
       "      <td>11664.500000</td>\n",
       "      <td>2.519013e+08</td>\n",
       "    </tr>\n",
       "  </tbody>\n",
       "</table>\n",
       "</div>"
      ],
      "text/plain": [
       "         Unnamed: 0      datetime          Open         High           Low  \\\n",
       "count  49998.000000  4.999800e+04  49998.000000  49998.00000  49998.000000   \n",
       "mean   25000.500000  1.526737e+12   7883.275991   7893.26184   7873.009300   \n",
       "std    14433.323716  4.329997e+09   1285.394514   1288.72374   1281.822396   \n",
       "min        2.000000  1.519238e+12   5799.500000   5820.50000   5743.000000   \n",
       "25%    12501.250000  1.522987e+12   6741.125000   6747.00000   6735.500000   \n",
       "50%    25000.500000  1.526737e+12   7674.250000   7682.75000   7668.000000   \n",
       "75%    37499.750000  1.530487e+12   8740.500000   8756.00000   8725.500000   \n",
       "max    49999.000000  1.534237e+12  11664.500000  11683.00000  11649.000000   \n",
       "\n",
       "              Close        Volume  \n",
       "count  49998.000000  4.999800e+04  \n",
       "mean    7883.184287  9.952103e+06  \n",
       "std     1285.363032  1.196090e+07  \n",
       "min     5799.500000  0.000000e+00  \n",
       "25%     6741.000000  3.569091e+06  \n",
       "50%     7674.000000  6.513358e+06  \n",
       "75%     8740.500000  1.180408e+07  \n",
       "max    11664.500000  2.519013e+08  "
      ]
     },
     "execution_count": 35,
     "metadata": {},
     "output_type": "execute_result"
    }
   ],
   "source": [
    "data.describe()"
   ]
  },
  {
   "cell_type": "code",
   "execution_count": 38,
   "metadata": {
    "collapsed": true
   },
   "outputs": [
    {
     "data": {
      "text/html": [
       "<div>\n",
       "<style scoped>\n",
       "    .dataframe tbody tr th:only-of-type {\n",
       "        vertical-align: middle;\n",
       "    }\n",
       "\n",
       "    .dataframe tbody tr th {\n",
       "        vertical-align: top;\n",
       "    }\n",
       "\n",
       "    .dataframe thead th {\n",
       "        text-align: right;\n",
       "    }\n",
       "</style>\n",
       "<table border=\"1\" class=\"dataframe\">\n",
       "  <thead>\n",
       "    <tr style=\"text-align: right;\">\n",
       "      <th></th>\n",
       "      <th>Unnamed: 0</th>\n",
       "      <th>datetime</th>\n",
       "      <th>Open</th>\n",
       "      <th>High</th>\n",
       "      <th>Low</th>\n",
       "      <th>Close</th>\n",
       "      <th>Volume</th>\n",
       "    </tr>\n",
       "  </thead>\n",
       "  <tbody>\n",
       "    <tr>\n",
       "      <th>2</th>\n",
       "      <td>2</td>\n",
       "      <td>1519237500000</td>\n",
       "      <td>10617.0</td>\n",
       "      <td>10635.0</td>\n",
       "      <td>10612.5</td>\n",
       "      <td>10631.0</td>\n",
       "      <td>6183325</td>\n",
       "    </tr>\n",
       "    <tr>\n",
       "      <th>3</th>\n",
       "      <td>3</td>\n",
       "      <td>1519237800000</td>\n",
       "      <td>10631.0</td>\n",
       "      <td>10635.0</td>\n",
       "      <td>10601.5</td>\n",
       "      <td>10613.0</td>\n",
       "      <td>5316231</td>\n",
       "    </tr>\n",
       "    <tr>\n",
       "      <th>4</th>\n",
       "      <td>4</td>\n",
       "      <td>1519238100000</td>\n",
       "      <td>10613.0</td>\n",
       "      <td>10613.5</td>\n",
       "      <td>10581.0</td>\n",
       "      <td>10598.0</td>\n",
       "      <td>8389699</td>\n",
       "    </tr>\n",
       "    <tr>\n",
       "      <th>5</th>\n",
       "      <td>5</td>\n",
       "      <td>1519238400000</td>\n",
       "      <td>10598.0</td>\n",
       "      <td>10634.5</td>\n",
       "      <td>10597.5</td>\n",
       "      <td>10608.0</td>\n",
       "      <td>6385291</td>\n",
       "    </tr>\n",
       "    <tr>\n",
       "      <th>6</th>\n",
       "      <td>6</td>\n",
       "      <td>1519238700000</td>\n",
       "      <td>10608.0</td>\n",
       "      <td>10617.0</td>\n",
       "      <td>10583.5</td>\n",
       "      <td>10597.5</td>\n",
       "      <td>6167482</td>\n",
       "    </tr>\n",
       "  </tbody>\n",
       "</table>\n",
       "</div>"
      ],
      "text/plain": [
       "   Unnamed: 0       datetime     Open     High      Low    Close   Volume\n",
       "2           2  1519237500000  10617.0  10635.0  10612.5  10631.0  6183325\n",
       "3           3  1519237800000  10631.0  10635.0  10601.5  10613.0  5316231\n",
       "4           4  1519238100000  10613.0  10613.5  10581.0  10598.0  8389699\n",
       "5           5  1519238400000  10598.0  10634.5  10597.5  10608.0  6385291\n",
       "6           6  1519238700000  10608.0  10617.0  10583.5  10597.5  6167482"
      ]
     },
     "metadata": {},
     "output_type": "display_data"
    }
   ],
   "source": [
    "target = [0 if X.]"
   ]
  },
  {
   "cell_type": "code",
   "execution_count": null,
   "metadata": {},
   "outputs": [],
   "source": []
  }
 ],
 "metadata": {
  "kernelspec": {
   "display_name": "Python 3",
   "language": "python",
   "name": "python3"
  },
  "language_info": {
   "codemirror_mode": {
    "name": "ipython",
    "version": 3
   },
   "file_extension": ".py",
   "mimetype": "text/x-python",
   "name": "python",
   "nbconvert_exporter": "python",
   "pygments_lexer": "ipython3",
   "version": "3.6.5"
  }
 },
 "nbformat": 4,
 "nbformat_minor": 2
}
